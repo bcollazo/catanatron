{
 "cells": [
  {
   "cell_type": "markdown",
   "id": "38540cf7-9b4f-4c98-9abb-952c84443f1d",
   "metadata": {},
   "source": [
    "# Catanatron Introduction\n",
    "This shows example usage of Catanatron. First, clone the repo and install requirements."
   ]
  },
  {
   "cell_type": "code",
   "execution_count": null,
   "id": "3be394e4-9bcd-46bb-892b-7538ad3b2e55",
   "metadata": {},
   "outputs": [],
   "source": [
    "!git clone https://github.com/bcollazo/catanatron.git\n",
    "!pip install -r catanatron/dev-requirements.txt\n",
    "!pip install -e catanatron/catanatron_core\n",
    "!pip install -e catanatron/catanatron_server\n",
    "!pip install -e catanatron/catanatron_gym\n",
    "!pip install -e catanatron/catanatron_experimental\n",
    "exit() # Forcefully restart runtime to picks up installed requirements"
   ]
  },
  {
   "cell_type": "markdown",
   "id": "5ef8f5a2-feb0-49d3-a2b5-a9f1c462db5d",
   "metadata": {},
   "source": [
    "Then, you can implement your own bot strategy and pit against some benchmark bots."
   ]
  },
  {
   "cell_type": "code",
   "execution_count": null,
   "id": "ef40e33f-8937-4918-b626-d70a2615e7aa",
   "metadata": {},
   "outputs": [],
   "source": [
    "import random\n",
    "\n",
    "from catanatron.game import Game\n",
    "from catanatron.models.player import Player, RandomPlayer, Color\n",
    "from catanatron.players.weighted_random import WeightedRandomPlayer\n",
    "\n",
    "class MyPlayer(Player):\n",
    "    def decide(self, game, playable_actions):\n",
    "        \"\"\"Should return one of the playable_actions.\n",
    "\n",
    "        Args:\n",
    "            game (Game): complete game state. read-only.\n",
    "            playable_actions (Iterable[Action]): options to choose from\n",
    "        Return:\n",
    "            action (Action): Chosen element of playable_actions\n",
    "        \"\"\"\n",
    "        # ===== YOUR CODE HERE =====\n",
    "        # As an example we simply choose a valid action at random:\n",
    "        return random.choice(playable_actions)\n",
    "        # ===== END YOUR CODE =====\n",
    "\n",
    "# Play a simple 4v4 game. Edit MyPlayer with your logic!\n",
    "players = [\n",
    "    MyPlayer(Color.RED),\n",
    "    WeightedRandomPlayer(Color.BLUE),\n",
    "    RandomPlayer(Color.WHITE),\n",
    "    RandomPlayer(Color.ORANGE),\n",
    "]\n",
    "game = Game(players)\n",
    "print(game.play())  # returns winning color"
   ]
  },
  {
   "cell_type": "markdown",
   "id": "cd529f61-6de7-4de1-8e0c-273db6a2de9f",
   "metadata": {},
   "source": [
    "You can also simulate thousands of games to get more statistically significant results:"
   ]
  },
  {
   "cell_type": "code",
   "execution_count": null,
   "id": "e06b3b9c-aa9c-4ec3-9b05-74c5d389d766",
   "metadata": {},
   "outputs": [],
   "source": [
    "from pprint import pprint\n",
    "from catanatron_experimental.play import play_batch\n",
    "\n",
    "wins, results_by_player, games = play_batch(10, players)"
   ]
  },
  {
   "cell_type": "markdown",
   "id": "c1e64f53-26dc-40d4-ae7c-1410355617e8",
   "metadata": {},
   "source": [
    "You can inspect the game states in a variety of ways and compute statistics"
   ]
  },
  {
   "cell_type": "code",
   "execution_count": null,
   "id": "34effc30-5cad-4031-aab8-fa91e2d0d1f3",
   "metadata": {},
   "outputs": [],
   "source": [
    "from catanatron.json import GameEncoder\n",
    "from catanatron_gym.features import create_sample_vector, create_sample\n",
    "from catanatron_gym.board_tensor_features import (\n",
    "    create_board_tensor,\n",
    ")\n",
    "\n",
    "game = games[0]  # pick say the first one\n",
    "\n",
    "# 1. Feature dictionary of last state before game ended from REDs perspective. \n",
    "#   See https://catanatron.readthedocs.io/en/latest/catanatron_gym.envs.html#catanatron_gym.envs.catanatron_env.CatanatronEnv.observation_space\n",
    "#   for more information on this representation.\n",
    "# record = create_sample(game, Color.RED)\n",
    "# pprint(record)\n",
    "\n",
    "# 2. Vector (similar to 1) of last state before game ended\n",
    "# vector = create_sample_vector(game, Color.RED)\n",
    "# print(vector)\n",
    "\n",
    "# 3. Board Tensor representation, similar to the one described in https://arxiv.org/abs/2008.07079\n",
    "# tensor = create_board_tensor(game, Color.RED)\n",
    "# print(tensor)\n",
    "\n",
    "# 4. Inspect Python catanatron.state.State class\n",
    "# print(game.state)\n",
    "\n",
    "# 5. JSON Representation (with full action history)\n",
    "game_json = GameEncoder().default(game)\n",
    "pprint(game_json)  # inspect a game state representation"
   ]
  }
 ],
 "metadata": {
  "kernelspec": {
   "display_name": "Python 3 (ipykernel)",
   "language": "python",
   "name": "python3"
  },
  "language_info": {
   "codemirror_mode": {
    "name": "ipython",
    "version": 3
   },
   "file_extension": ".py",
   "mimetype": "text/x-python",
   "name": "python",
   "nbconvert_exporter": "python",
   "pygments_lexer": "ipython3",
   "version": "3.8.10"
  }
 },
 "nbformat": 4,
 "nbformat_minor": 5
}
